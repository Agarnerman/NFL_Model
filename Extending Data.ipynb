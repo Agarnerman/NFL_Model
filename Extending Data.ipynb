{
 "cells": [
  {
   "cell_type": "code",
   "execution_count": 32,
   "id": "93fdd476",
   "metadata": {},
   "outputs": [],
   "source": [
    "import numpy as np\n",
    "import pandas as pd"
   ]
  },
  {
   "cell_type": "code",
   "execution_count": 33,
   "id": "12b09095",
   "metadata": {},
   "outputs": [
    {
     "name": "stdout",
     "output_type": "stream",
     "text": [
      "number of seasons=1\n",
      "number of teams=32\n"
     ]
    }
   ],
   "source": [
    "seasons = [str(season) for season in range(2023, 2024)]\n",
    "print(f'number of seasons={len(seasons)}')\n",
    "\n",
    "teams = ['crd', 'atl', 'rav', 'buf', 'car', 'chi', 'cin', 'cle', 'dal', 'den', 'det', 'gnb', 'htx', 'clt', 'jax', 'kan', 'sdg',\n",
    "        'ram', 'rai', 'mia', 'min', 'nwe', 'nor', 'nyg', 'nyj', 'phi', 'pit', 'sea', 'sfo', 'tam', 'oti', 'was']\n",
    "print(f'number of teams={len(teams)}')"
   ]
  },
  {
   "cell_type": "code",
   "execution_count": 34,
   "id": "241455fd",
   "metadata": {},
   "outputs": [
    {
     "name": "stdout",
     "output_type": "stream",
     "text": [
      "https://www.pro-football-reference.com/teams/crd/2023/gamelog/\n",
      "https://www.pro-football-reference.com/teams/atl/2023/gamelog/\n",
      "https://www.pro-football-reference.com/teams/rav/2023/gamelog/\n",
      "https://www.pro-football-reference.com/teams/buf/2023/gamelog/\n",
      "https://www.pro-football-reference.com/teams/car/2023/gamelog/\n",
      "https://www.pro-football-reference.com/teams/chi/2023/gamelog/\n",
      "https://www.pro-football-reference.com/teams/cin/2023/gamelog/\n",
      "https://www.pro-football-reference.com/teams/cle/2023/gamelog/\n",
      "https://www.pro-football-reference.com/teams/dal/2023/gamelog/\n",
      "https://www.pro-football-reference.com/teams/den/2023/gamelog/\n",
      "https://www.pro-football-reference.com/teams/det/2023/gamelog/\n",
      "https://www.pro-football-reference.com/teams/gnb/2023/gamelog/\n",
      "https://www.pro-football-reference.com/teams/htx/2023/gamelog/\n",
      "https://www.pro-football-reference.com/teams/clt/2023/gamelog/\n",
      "https://www.pro-football-reference.com/teams/jax/2023/gamelog/\n",
      "https://www.pro-football-reference.com/teams/kan/2023/gamelog/\n",
      "https://www.pro-football-reference.com/teams/sdg/2023/gamelog/\n",
      "https://www.pro-football-reference.com/teams/ram/2023/gamelog/\n",
      "https://www.pro-football-reference.com/teams/rai/2023/gamelog/\n",
      "https://www.pro-football-reference.com/teams/mia/2023/gamelog/\n",
      "https://www.pro-football-reference.com/teams/min/2023/gamelog/\n",
      "https://www.pro-football-reference.com/teams/nwe/2023/gamelog/\n",
      "https://www.pro-football-reference.com/teams/nor/2023/gamelog/\n",
      "https://www.pro-football-reference.com/teams/nyg/2023/gamelog/\n",
      "https://www.pro-football-reference.com/teams/nyj/2023/gamelog/\n",
      "https://www.pro-football-reference.com/teams/phi/2023/gamelog/\n",
      "https://www.pro-football-reference.com/teams/pit/2023/gamelog/\n",
      "https://www.pro-football-reference.com/teams/sea/2023/gamelog/\n",
      "https://www.pro-football-reference.com/teams/sfo/2023/gamelog/\n",
      "https://www.pro-football-reference.com/teams/tam/2023/gamelog/\n",
      "https://www.pro-football-reference.com/teams/oti/2023/gamelog/\n",
      "https://www.pro-football-reference.com/teams/was/2023/gamelog/\n",
      "    Season  Week Team  Day          Date Unnamed: 3 Unnamed: 4   OT  \\\n",
      "0     2023     1  CRD  Sun  September 10   boxscore          L  NaN   \n",
      "1     2023     2  CRD  Sun  September 17   boxscore          L  NaN   \n",
      "2     2023     3  CRD  Sun  September 24   boxscore          W  NaN   \n",
      "3     2023     4  CRD  Sun     October 1   boxscore          L  NaN   \n",
      "4     2023     5  CRD  Sun     October 8   boxscore          L  NaN   \n",
      "..     ...   ...  ...  ...           ...        ...        ...  ...   \n",
      "539   2023    13  WAS  Sun    December 3   boxscore          L  NaN   \n",
      "540   2023    15  WAS  Sun   December 17   boxscore          L  NaN   \n",
      "541   2023    16  WAS  Sun   December 24   boxscore          L  NaN   \n",
      "542   2023    17  WAS  Sun   December 31   boxscore          L  NaN   \n",
      "543   2023    18  WAS  Sun     January 7   boxscore          L  NaN   \n",
      "\n",
      "    Unnamed: 6                    Opp  ...  FGA  XPM  XPA  Pnt  Yds.3  3DConv  \\\n",
      "0            @  Washington Commanders  ...    2    2    2    6    266       4   \n",
      "1          NaN        New York Giants  ...    1    4    4    3    111       7   \n",
      "2          NaN         Dallas Cowboys  ...    3    1    1    2    102       9   \n",
      "3            @    San Francisco 49ers  ...    0    5    5    1     45       3   \n",
      "4          NaN     Cincinnati Bengals  ...    2    4    4    3    145       5   \n",
      "..         ...                    ...  ...  ...  ...  ...  ...    ...     ...   \n",
      "539        NaN         Miami Dolphins  ...    1    6    6    3    127       7   \n",
      "540          @       Los Angeles Rams  ...    3    2    2    3    134       9   \n",
      "541          @          New York Jets  ...    3    3    3    6    292       4   \n",
      "542        NaN    San Francisco 49ers  ...    2    3    3    2     76       4   \n",
      "543        NaN         Dallas Cowboys  ...    3    5    5    0      0       6   \n",
      "\n",
      "     3DAtt  4DConv  4DAtt    ToP  \n",
      "0       12       0      0  31:24  \n",
      "1       12       1      1  29:23  \n",
      "2       16       0      1  34:33  \n",
      "3        5       1      1  29:14  \n",
      "4       14       0      3  38:10  \n",
      "..     ...     ...    ...    ...  \n",
      "539     13       2      2  32:16  \n",
      "540     16       0      0  35:53  \n",
      "541     16       1      2  36:16  \n",
      "542      9       0      1  38:13  \n",
      "543     10       1      1  33:55  \n",
      "\n",
      "[544 rows x 74 columns]\n"
     ]
    }
   ],
   "source": [
    "import random\n",
    "import time\n",
    "\n",
    "nfl_df = pd.DataFrame()\n",
    "\n",
    "for season in seasons:\n",
    "    for team in teams:\n",
    "        url = 'https://www.pro-football-reference.com/teams/' + team + '/' + season + '/gamelog/'\n",
    "        print(url)\n",
    "        \n",
    "        off_df = pd.read_html(url, header =1, attrs={'id':'gamelog' + season})[0]\n",
    "        \n",
    "        def_df = pd.read_html(url, header =1, attrs={'id':'gamelog_opp' + season})[0]\n",
    "        \n",
    "        team_df = pd.concat([off_df, def_df], axis=1)\n",
    "        \n",
    "        team_df.insert(loc=0, column='Season', value=season)\n",
    "        \n",
    "        team_df.insert(loc=2, column='Team', value=team.upper())\n",
    "        \n",
    "        nfl_df = pd.concat([nfl_df, team_df], ignore_index= True)\n",
    "        \n",
    "        time.sleep(random.randint(7, 8))\n",
    "        \n",
    "print(nfl_df)"
   ]
  },
  {
   "cell_type": "code",
   "execution_count": 36,
   "id": "e9593894",
   "metadata": {},
   "outputs": [],
   "source": [
    "nfl_df.to_csv('nfl_data_2023.csv', index=False)"
   ]
  },
  {
   "cell_type": "code",
   "execution_count": 38,
   "id": "e647ba9b",
   "metadata": {},
   "outputs": [
    {
     "name": "stdout",
     "output_type": "stream",
     "text": [
      "(544, 74)\n"
     ]
    }
   ],
   "source": [
    "nfl_df = pd.read_csv('nfl_data_2023.csv')\n",
    "\n",
    "print(nfl_df.shape)"
   ]
  },
  {
   "cell_type": "code",
   "execution_count": 39,
   "id": "880f18fd",
   "metadata": {},
   "outputs": [
    {
     "name": "stdout",
     "output_type": "stream",
     "text": [
      "(544, 11)\n"
     ]
    }
   ],
   "source": [
    "nfl_pts_df = nfl_df.drop(nfl_df.columns[12:], axis=1)\n",
    "nfl_pts_df = nfl_pts_df.drop(nfl_pts_df.columns[5:6], axis =1)\n",
    "print(nfl_pts_df.shape)"
   ]
  },
  {
   "cell_type": "code",
   "execution_count": 40,
   "id": "474b9449",
   "metadata": {},
   "outputs": [],
   "source": [
    "nfl_pts_df = nfl_pts_df.dropna(subset=['Tm']).reset_index(drop=True)"
   ]
  },
  {
   "cell_type": "code",
   "execution_count": 41,
   "id": "f98f199f",
   "metadata": {},
   "outputs": [
    {
     "name": "stdout",
     "output_type": "stream",
     "text": [
      "(544, 11)\n"
     ]
    }
   ],
   "source": [
    "print(nfl_pts_df.shape)"
   ]
  },
  {
   "cell_type": "code",
   "execution_count": 42,
   "id": "35793dfb",
   "metadata": {},
   "outputs": [
    {
     "name": "stdout",
     "output_type": "stream",
     "text": [
      "<class 'pandas.core.frame.DataFrame'>\n",
      "RangeIndex: 544 entries, 0 to 543\n",
      "Data columns (total 11 columns):\n",
      " #   Column   Non-Null Count  Dtype \n",
      "---  ------   --------------  ----- \n",
      " 0   Season   544 non-null    int64 \n",
      " 1   Week     544 non-null    int64 \n",
      " 2   Team     544 non-null    object\n",
      " 3   Day      544 non-null    object\n",
      " 4   Date     544 non-null    object\n",
      " 5   Win      544 non-null    object\n",
      " 6   OT       26 non-null     object\n",
      " 7   Home     272 non-null    object\n",
      " 8   Opp      544 non-null    object\n",
      " 9   Off_Pts  544 non-null    int64 \n",
      " 10  Def_Pts  544 non-null    int64 \n",
      "dtypes: int64(4), object(7)\n",
      "memory usage: 46.9+ KB\n",
      "None\n"
     ]
    }
   ],
   "source": [
    "column_names = {'Unnamed: 4':'Win', 'Unnamed: 6': 'Home', 'Tm':'Off_Pts', 'Opp.1':'Def_Pts'}\n",
    "nfl_pts_df = nfl_pts_df.rename(columns=column_names)\n",
    "print(nfl_pts_df.info(verbose=True))"
   ]
  },
  {
   "cell_type": "code",
   "execution_count": 43,
   "id": "dd5b9c9b",
   "metadata": {},
   "outputs": [],
   "source": [
    "team_dict = {\n",
    "    'Arizona Cardinals': 'CRD',\n",
    "    'Atlanta Falcons': 'ATL',\n",
    "    'Baltimore Ravens': 'RAV',\n",
    "    'Buffalo Bills': 'BUF',\n",
    "    'Carolina Panthers': 'CAR',\n",
    "    'Chicago Bears': 'CHI',\n",
    "    'Cincinnati Bengals': 'CIN',\n",
    "    'Cleveland Browns': 'CLE',\n",
    "    'Dallas Cowboys': 'DAL',\n",
    "    'Denver Broncos': 'DEN',\n",
    "    'Detroit Lions': 'DET',\n",
    "    'Green Bay Packers': 'GNB',\n",
    "    'Houston Texans': 'HTX',\n",
    "    'Indianapolis Colts': 'CLT',\n",
    "    'Jacksonville Jaguars': 'JAX',\n",
    "    'Kansas City Chiefs': 'KAN',\n",
    "    'Las Vegas Raiders': 'RAI',\n",
    "    'Oakland Raiders': 'RAI',\n",
    "    'Los Angeles Chargers': 'SDG',  # Formerly San Diego Chargers\n",
    "    'San Diego Chargers': 'SDG',  # Formerly used name\n",
    "    'Los Angeles Rams': 'RAM',  # Formerly St. Louis Rams\n",
    "    'St. Louis Rams': 'RAM',  # Formerly used name\n",
    "    'Miami Dolphins': 'MIA',\n",
    "    'Minnesota Vikings': 'MIN',\n",
    "    'New England Patriots': 'NWE',\n",
    "    'New Orleans Saints': 'NOR',\n",
    "    'New York Giants': 'NYG',\n",
    "    'New York Jets': 'NYJ',\n",
    "    'Philadelphia Eagles': 'PHI',\n",
    "    'Pittsburgh Steelers': 'PIT',\n",
    "    'San Francisco 49ers': 'SFO',\n",
    "    'Seattle Seahawks': 'SEA',\n",
    "    'Tampa Bay Buccaneers': 'TAM',\n",
    "    'Tennessee Titans': 'OTI',\n",
    "    'Washington Commanders': 'WAS',\n",
    "    'Washington Redskins': 'WAS',\n",
    "    'Washingtom Football Team' : 'WAS'\n",
    "}\n",
    "\n",
    "nfl_pts_df = nfl_pts_df.replace({'Opp': team_dict})"
   ]
  },
  {
   "cell_type": "code",
   "execution_count": 44,
   "id": "23684b14",
   "metadata": {},
   "outputs": [],
   "source": [
    "nfl_pts_df['Win'] = nfl_pts_df['Win'].apply(lambda x: 1 if x == 'W' else 0)\n",
    "nfl_pts_df['OT'] = nfl_pts_df['OT'].apply(lambda x: 1 if x == 'OT' else 0)\n",
    "nfl_pts_df['Home'] = nfl_pts_df['Home'].apply(lambda x: 0 if x == '@' else 1)"
   ]
  },
  {
   "cell_type": "code",
   "execution_count": 46,
   "id": "18897a26",
   "metadata": {},
   "outputs": [
    {
     "name": "stdout",
     "output_type": "stream",
     "text": [
      "     Season  Week Team  Day          Date  Win  OT  Home  Opp  Off_Pts  \\\n",
      "0      2023     1  CRD  Sun  September 10    0   0     0  WAS       16   \n",
      "1      2023     2  CRD  Sun  September 17    0   0     1  NYG       28   \n",
      "2      2023     3  CRD  Sun  September 24    1   0     1  DAL       28   \n",
      "3      2023     4  CRD  Sun     October 1    0   0     0  SFO       16   \n",
      "4      2023     5  CRD  Sun     October 8    0   0     1  CIN       20   \n",
      "..      ...   ...  ...  ...           ...  ...  ..   ...  ...      ...   \n",
      "539    2023    13  WAS  Sun    December 3    0   0     1  MIA       15   \n",
      "540    2023    15  WAS  Sun   December 17    0   0     0  RAM       20   \n",
      "541    2023    16  WAS  Sun   December 24    0   0     0  NYJ       28   \n",
      "542    2023    17  WAS  Sun   December 31    0   0     1  SFO       10   \n",
      "543    2023    18  WAS  Sun     January 7    0   0     1  DAL       10   \n",
      "\n",
      "     Def_Pts  \n",
      "0         20  \n",
      "1         31  \n",
      "2         16  \n",
      "3         35  \n",
      "4         34  \n",
      "..       ...  \n",
      "539       45  \n",
      "540       28  \n",
      "541       30  \n",
      "542       27  \n",
      "543       38  \n",
      "\n",
      "[544 rows x 11 columns]\n"
     ]
    }
   ],
   "source": [
    "print(nfl_pts_df)"
   ]
  },
  {
   "cell_type": "code",
   "execution_count": 47,
   "id": "208eb80c",
   "metadata": {},
   "outputs": [],
   "source": [
    "nfl_pts_df.to_csv('nfl_pts_2023.csv', index=False)"
   ]
  },
  {
   "cell_type": "code",
   "execution_count": 48,
   "id": "f4eb3b37",
   "metadata": {},
   "outputs": [
    {
     "name": "stdout",
     "output_type": "stream",
     "text": [
      "https://www.pro-football-reference.com/teams/crd/2023_lines.htm\n",
      "https://www.pro-football-reference.com/teams/atl/2023_lines.htm\n",
      "https://www.pro-football-reference.com/teams/rav/2023_lines.htm\n",
      "https://www.pro-football-reference.com/teams/buf/2023_lines.htm\n",
      "https://www.pro-football-reference.com/teams/car/2023_lines.htm\n",
      "https://www.pro-football-reference.com/teams/chi/2023_lines.htm\n",
      "https://www.pro-football-reference.com/teams/cin/2023_lines.htm\n",
      "https://www.pro-football-reference.com/teams/cle/2023_lines.htm\n",
      "https://www.pro-football-reference.com/teams/dal/2023_lines.htm\n",
      "https://www.pro-football-reference.com/teams/den/2023_lines.htm\n",
      "https://www.pro-football-reference.com/teams/det/2023_lines.htm\n",
      "https://www.pro-football-reference.com/teams/gnb/2023_lines.htm\n",
      "https://www.pro-football-reference.com/teams/htx/2023_lines.htm\n",
      "https://www.pro-football-reference.com/teams/clt/2023_lines.htm\n",
      "https://www.pro-football-reference.com/teams/jax/2023_lines.htm\n",
      "https://www.pro-football-reference.com/teams/kan/2023_lines.htm\n",
      "https://www.pro-football-reference.com/teams/sdg/2023_lines.htm\n",
      "https://www.pro-football-reference.com/teams/ram/2023_lines.htm\n",
      "https://www.pro-football-reference.com/teams/rai/2023_lines.htm\n",
      "https://www.pro-football-reference.com/teams/mia/2023_lines.htm\n",
      "https://www.pro-football-reference.com/teams/min/2023_lines.htm\n",
      "https://www.pro-football-reference.com/teams/nwe/2023_lines.htm\n",
      "https://www.pro-football-reference.com/teams/nor/2023_lines.htm\n",
      "https://www.pro-football-reference.com/teams/nyg/2023_lines.htm\n",
      "https://www.pro-football-reference.com/teams/nyj/2023_lines.htm\n",
      "https://www.pro-football-reference.com/teams/phi/2023_lines.htm\n",
      "https://www.pro-football-reference.com/teams/pit/2023_lines.htm\n",
      "https://www.pro-football-reference.com/teams/sea/2023_lines.htm\n",
      "https://www.pro-football-reference.com/teams/sfo/2023_lines.htm\n",
      "https://www.pro-football-reference.com/teams/tam/2023_lines.htm\n",
      "https://www.pro-football-reference.com/teams/oti/2023_lines.htm\n",
      "https://www.pro-football-reference.com/teams/was/2023_lines.htm\n",
      "    Season  G# Team   Opp  Spread  Over/Under    Result vs. Line OU Result\n",
      "0     2023   1  CRD  @WAS     6.5        38.5  L, 16-20      Won     Under\n",
      "1     2023   2  CRD   NYG     4.5        36.5  L, 28-31      Won      Over\n",
      "2     2023   3  CRD   DAL    11.5        43.5  W, 28-16      Won      Over\n",
      "3     2023   4  CRD  @SFO    16.5        44.5  L, 16-35     Lost      Over\n",
      "4     2023   5  CRD   CIN     3.0        45.5  L, 20-34     Lost      Over\n",
      "..     ...  ..  ...   ...     ...         ...       ...      ...       ...\n",
      "565   2023  13  WAS   MIA     9.0        49.5  L, 15-45     Lost      Over\n",
      "566   2023  14  WAS  @LAR     6.5        50.5  L, 20-28     Lost     Under\n",
      "567   2023  15  WAS  @NYJ     3.0        37.5  L, 28-30      Won      Over\n",
      "568   2023  16  WAS   SFO    14.0        49.5  L, 10-27     Lost     Under\n",
      "569   2023  17  WAS   DAL    13.0        46.5  L, 10-38     Lost      Over\n",
      "\n",
      "[570 rows x 9 columns]\n"
     ]
    }
   ],
   "source": [
    "import random\n",
    "import time\n",
    "\n",
    "veg_df = pd.DataFrame()\n",
    "\n",
    "for season in seasons:\n",
    "    for team in teams:\n",
    "        url = 'https://www.pro-football-reference.com/teams/' + team + '/' + season + '_lines.htm'\n",
    "        print(url)\n",
    "        \n",
    "        lines_df = pd.read_html(url, header =0, attrs={'id':'vegas_lines'})[0]\n",
    "        \n",
    "        lines_df.insert(loc=0, column='Season', value=season)\n",
    "        \n",
    "        lines_df.insert(loc=2, column='Team', value=team.upper())\n",
    "        \n",
    "        veg_df = pd.concat([veg_df, lines_df], ignore_index= True)\n",
    "        \n",
    "        time.sleep(random.randint(7, 8))\n",
    "        \n",
    "print(veg_df)"
   ]
  },
  {
   "cell_type": "code",
   "execution_count": 49,
   "id": "0f10a47f",
   "metadata": {},
   "outputs": [],
   "source": [
    "veg_df.to_csv('nfl_vegas_lines_2023.csv', index=False)"
   ]
  },
  {
   "cell_type": "code",
   "execution_count": 50,
   "id": "c00c8474",
   "metadata": {},
   "outputs": [
    {
     "name": "stdout",
     "output_type": "stream",
     "text": [
      "(570, 9)\n"
     ]
    }
   ],
   "source": [
    "veg_df = pd.read_csv('nfl_vegas_lines_2023.csv')\n",
    "\n",
    "print(veg_df.shape)"
   ]
  },
  {
   "cell_type": "code",
   "execution_count": 51,
   "id": "2d781a17",
   "metadata": {},
   "outputs": [
    {
     "name": "stdout",
     "output_type": "stream",
     "text": [
      "<class 'pandas.core.frame.DataFrame'>\n",
      "RangeIndex: 570 entries, 0 to 569\n",
      "Data columns (total 6 columns):\n",
      " #   Column      Non-Null Count  Dtype  \n",
      "---  ------      --------------  -----  \n",
      " 0   Season      570 non-null    int64  \n",
      " 1   G#          570 non-null    int64  \n",
      " 2   Team        570 non-null    object \n",
      " 3   Opp         570 non-null    object \n",
      " 4   Spread      570 non-null    float64\n",
      " 5   Over/Under  570 non-null    float64\n",
      "dtypes: float64(2), int64(2), object(2)\n",
      "memory usage: 26.8+ KB\n",
      "None\n"
     ]
    }
   ],
   "source": [
    "veg_df = veg_df.drop(veg_df.columns[6:], axis=1)\n",
    "print(veg_df.info(verbose=True))"
   ]
  },
  {
   "cell_type": "code",
   "execution_count": 52,
   "id": "60e2cc5a",
   "metadata": {},
   "outputs": [
    {
     "name": "stdout",
     "output_type": "stream",
     "text": [
      "<class 'pandas.core.frame.DataFrame'>\n",
      "RangeIndex: 570 entries, 0 to 569\n",
      "Data columns (total 6 columns):\n",
      " #   Column  Non-Null Count  Dtype  \n",
      "---  ------  --------------  -----  \n",
      " 0   Season  570 non-null    int64  \n",
      " 1   G       570 non-null    int64  \n",
      " 2   Team    570 non-null    object \n",
      " 3   Opp     570 non-null    object \n",
      " 4   Spread  570 non-null    float64\n",
      " 5   Total   570 non-null    float64\n",
      "dtypes: float64(2), int64(2), object(2)\n",
      "memory usage: 26.8+ KB\n",
      "None\n"
     ]
    }
   ],
   "source": [
    "column_names = {'G#':'G', 'Over/Under':'Total'}\n",
    "veg_df = veg_df.rename(columns=column_names)\n",
    "print(veg_df.info(verbose=True))"
   ]
  },
  {
   "cell_type": "code",
   "execution_count": 53,
   "id": "e29ab571",
   "metadata": {},
   "outputs": [
    {
     "name": "stdout",
     "output_type": "stream",
     "text": [
      "(544, 6)\n"
     ]
    }
   ],
   "source": [
    "veg_df = veg_df.query('(Season <= 2020 and G < 17) or (Season >= 2021 and G < 18)')\n",
    "print(veg_df.shape)"
   ]
  },
  {
   "cell_type": "code",
   "execution_count": 54,
   "id": "808ce1f0",
   "metadata": {},
   "outputs": [],
   "source": [
    "veg_df['Home']= veg_df['Opp'].apply(lambda x: 0 if x[0]== '@' else 1)"
   ]
  },
  {
   "cell_type": "code",
   "execution_count": 55,
   "id": "3ecc5c9b",
   "metadata": {},
   "outputs": [],
   "source": [
    "veg_df['Opp'] = veg_df['Opp'].apply(lambda x: x[1:] if x[0] == '@' else x)\n",
    "\n",
    "abbr_dict = {'OAK':'RAI', 'LVR':'RAI', 'STL':'RAM', 'LAR':'RAM','LAC':'SDG',\n",
    "            'IND':'CLT', 'HOU':'HTX', 'BAL':'RAV', 'ARI':'CRD', 'TEN':'OTI'}\n",
    "veg_df = veg_df.replace({'Opp': abbr_dict})"
   ]
  },
  {
   "cell_type": "code",
   "execution_count": 56,
   "id": "b0a49ec2",
   "metadata": {},
   "outputs": [
    {
     "name": "stdout",
     "output_type": "stream",
     "text": [
      "(544, 11)\n",
      "(544, 7)\n"
     ]
    }
   ],
   "source": [
    "print(nfl_pts_df.shape)\n",
    "print(veg_df.shape)"
   ]
  },
  {
   "cell_type": "code",
   "execution_count": 57,
   "id": "572f05a7",
   "metadata": {},
   "outputs": [],
   "source": [
    "merged_df = pd.merge(nfl_pts_df, veg_df, on=['Season','Team','Opp','Home'])"
   ]
  },
  {
   "cell_type": "code",
   "execution_count": 58,
   "id": "0f3d05ba",
   "metadata": {},
   "outputs": [
    {
     "name": "stdout",
     "output_type": "stream",
     "text": [
      "(544, 14)\n"
     ]
    }
   ],
   "source": [
    "print(merged_df.shape)"
   ]
  },
  {
   "cell_type": "code",
   "execution_count": 59,
   "id": "d20e9e48",
   "metadata": {},
   "outputs": [],
   "source": [
    "merged_df.to_csv('nfl_pts_and_vegas_2023.csv', index=False)"
   ]
  },
  {
   "cell_type": "code",
   "execution_count": 60,
   "id": "5b34a361",
   "metadata": {},
   "outputs": [
    {
     "name": "stdout",
     "output_type": "stream",
     "text": [
      "(4637, 14)\n",
      "(544, 14)\n"
     ]
    }
   ],
   "source": [
    "merged_2014_2022_df = pd.read_csv('nfl_pts_and_vegas_2014-2022.csv')\n",
    "merged_2023_df = pd.read_csv('nfl_pts_and_vegas_2023.csv')\n",
    "print(merged_2014_2022_df.shape)\n",
    "print(merged_2023_df.shape)"
   ]
  },
  {
   "cell_type": "code",
   "execution_count": 61,
   "id": "66a0a9da",
   "metadata": {},
   "outputs": [
    {
     "name": "stdout",
     "output_type": "stream",
     "text": [
      "      Season  Week Team  Day          Date  Win  OT  Home  Opp  Off_Pts  \\\n",
      "0       2014     1  CRD  Mon   September 8    1   0     1  SDG       18   \n",
      "1       2014     2  CRD  Sun  September 14    1   0     0  NYG       25   \n",
      "2       2014     3  CRD  Sun  September 21    1   0     1  SFO       23   \n",
      "3       2014     5  CRD  Sun     October 5    0   0     0  DEN       20   \n",
      "4       2014     6  CRD  Sun    October 12    1   0     1  WAS       30   \n",
      "...      ...   ...  ...  ...           ...  ...  ..   ...  ...      ...   \n",
      "5176    2023    13  WAS  Sun    December 3    0   0     1  MIA       15   \n",
      "5177    2023    15  WAS  Sun   December 17    0   0     0  RAM       20   \n",
      "5178    2023    16  WAS  Sun   December 24    0   0     0  NYJ       28   \n",
      "5179    2023    17  WAS  Sun   December 31    0   0     1  SFO       10   \n",
      "5180    2023    18  WAS  Sun     January 7    0   0     1  DAL       10   \n",
      "\n",
      "      Def_Pts   G  Spread  Total  \n",
      "0          17   1    -3.0   45.0  \n",
      "1          14   2    -2.0   42.5  \n",
      "2          14   3     3.0   42.0  \n",
      "3          41   4     7.5   48.0  \n",
      "4          20   5    -5.5   47.0  \n",
      "...       ...  ..     ...    ...  \n",
      "5176       45  13     9.0   49.5  \n",
      "5177       28  14     6.5   50.5  \n",
      "5178       30  15     3.0   37.5  \n",
      "5179       27  16    14.0   49.5  \n",
      "5180       38  17    13.0   46.5  \n",
      "\n",
      "[5181 rows x 14 columns]\n"
     ]
    }
   ],
   "source": [
    "merged_total_df = pd.concat([merged_2014_2022_df, merged_2023_df], ignore_index=True)\n",
    "print(merged_total_df)"
   ]
  },
  {
   "cell_type": "code",
   "execution_count": 62,
   "id": "a4224f51",
   "metadata": {},
   "outputs": [],
   "source": [
    "merged_total_df.to_csv('nfl_pts_and_vegas_2014-2023.csv', index=False)"
   ]
  },
  {
   "cell_type": "code",
   "execution_count": 63,
   "id": "ccd4937f",
   "metadata": {},
   "outputs": [
    {
     "name": "stdout",
     "output_type": "stream",
     "text": [
      "(5181, 14)\n"
     ]
    }
   ],
   "source": [
    "nfl_pts_veg_df = pd.read_csv('nfl_pts_and_vegas_2014-2023.csv')\n",
    "print(nfl_pts_veg_df.shape)"
   ]
  },
  {
   "cell_type": "code",
   "execution_count": 64,
   "id": "4ab22642",
   "metadata": {},
   "outputs": [
    {
     "name": "stdout",
     "output_type": "stream",
     "text": [
      "(5181, 15)\n"
     ]
    }
   ],
   "source": [
    "nfl_pts_veg_df['Actual_Total']= nfl_pts_veg_df['Off_Pts'] + nfl_pts_veg_df['Def_Pts']\n",
    "\n",
    "print(nfl_pts_veg_df.shape)"
   ]
  },
  {
   "cell_type": "code",
   "execution_count": 65,
   "id": "83aa967e",
   "metadata": {},
   "outputs": [
    {
     "name": "stdout",
     "output_type": "stream",
     "text": [
      "      Week Team  Opp  Week_Min  Week_Max\n",
      "5149     3  OTI  CLE         3         3\n",
      "5150     4  OTI  CIN         4         4\n",
      "5151     5  OTI  CLT         5        13\n",
      "5152     6  OTI  RAV         6         6\n",
      "5153     8  OTI  ATL         8         8\n",
      "5154     9  OTI  PIT         9         9\n",
      "5155    10  OTI  TAM        10        10\n",
      "5156    11  OTI  JAX        11        18\n",
      "5157    12  OTI  CAR        12        12\n",
      "5158    13  OTI  CLT         5        13\n",
      "5159    14  OTI  MIA        14        14\n",
      "5160    15  OTI  HTX        15        17\n",
      "5161    16  OTI  SEA        16        16\n",
      "5162    17  OTI  HTX        15        17\n",
      "5163    18  OTI  JAX        11        18\n",
      "5164     1  WAS  CRD         1         1\n",
      "5165     2  WAS  DEN         2         2\n",
      "5166     3  WAS  BUF         3         3\n",
      "5167     4  WAS  PHI         4         8\n",
      "5168     5  WAS  CHI         5         5\n",
      "5169     6  WAS  ATL         6         6\n",
      "5170     7  WAS  NYG         7        11\n",
      "5171     8  WAS  PHI         4         8\n",
      "5172     9  WAS  NWE         9         9\n",
      "5173    10  WAS  SEA        10        10\n",
      "5174    11  WAS  NYG         7        11\n",
      "5175    12  WAS  DAL        12        18\n",
      "5176    13  WAS  MIA        13        13\n",
      "5177    15  WAS  RAM        15        15\n",
      "5178    16  WAS  NYJ        16        16\n",
      "5179    17  WAS  SFO        17        17\n",
      "5180    18  WAS  DAL        12        18\n",
      "      Season  Week Team  Day          Date  Win  OT  Home  Opp  Off_Pts  \\\n",
      "5149    2023     3  OTI  Sun  September 24    0   0     0  CLE        3   \n",
      "5150    2023     4  OTI  Sun     October 1    1   0     1  CIN       27   \n",
      "5151    2023     5  OTI  Sun     October 8    0   0     0  CLT       16   \n",
      "5152    2023     6  OTI  Sun    October 15    0   0     1  RAV       16   \n",
      "5153    2023     8  OTI  Sun    October 29    1   0     1  ATL       28   \n",
      "5154    2023     9  OTI  Thu    November 2    0   0     0  PIT       16   \n",
      "5155    2023    10  OTI  Sun   November 12    0   0     0  TAM        6   \n",
      "5156    2023    11  OTI  Sun   November 19    0   0     0  JAX       14   \n",
      "5157    2023    12  OTI  Sun   November 26    1   0     1  CAR       17   \n",
      "5158    2023    13  OTI  Sun    December 3    0   1     1  CLT       28   \n",
      "5159    2023    14  OTI  Mon   December 11    1   0     0  MIA       28   \n",
      "5160    2023    15  OTI  Sun   December 17    0   1     1  HTX       16   \n",
      "5161    2023    16  OTI  Sun   December 24    0   0     1  SEA       17   \n",
      "5162    2023    17  OTI  Sun   December 31    0   0     0  HTX        3   \n",
      "5163    2023    18  OTI  Sun     January 7    1   0     1  JAX       28   \n",
      "5164    2023     1  WAS  Sun  September 10    1   0     1  CRD       20   \n",
      "5165    2023     2  WAS  Sun  September 17    1   0     0  DEN       35   \n",
      "5166    2023     3  WAS  Sun  September 24    0   0     1  BUF        3   \n",
      "5167    2023     4  WAS  Sun     October 1    0   1     0  PHI       31   \n",
      "5168    2023     5  WAS  Thu     October 5    0   0     1  CHI       20   \n",
      "5169    2023     6  WAS  Sun    October 15    1   0     0  ATL       24   \n",
      "5170    2023     7  WAS  Sun    October 22    0   0     0  NYG        7   \n",
      "5171    2023     8  WAS  Sun    October 29    0   0     1  PHI       31   \n",
      "5172    2023     9  WAS  Sun    November 5    1   0     0  NWE       20   \n",
      "5173    2023    10  WAS  Sun   November 12    0   0     0  SEA       26   \n",
      "5174    2023    11  WAS  Sun   November 19    0   0     1  NYG       19   \n",
      "5175    2023    12  WAS  Thu   November 23    0   0     0  DAL       10   \n",
      "5176    2023    13  WAS  Sun    December 3    0   0     1  MIA       15   \n",
      "5177    2023    15  WAS  Sun   December 17    0   0     0  RAM       20   \n",
      "5178    2023    16  WAS  Sun   December 24    0   0     0  NYJ       28   \n",
      "5179    2023    17  WAS  Sun   December 31    0   0     1  SFO       10   \n",
      "5180    2023    18  WAS  Sun     January 7    0   0     1  DAL       10   \n",
      "\n",
      "      Def_Pts   G  Spread  Total  Actual_Total  Div_Game  \n",
      "5149       27   3     3.5   38.0            30         0  \n",
      "5150        3   4     2.5   41.5            30         0  \n",
      "5151       23   5    -2.5   43.5            39         1  \n",
      "5152       24   6     5.0   42.5            40         0  \n",
      "5153       23   7     2.5   35.5            51         0  \n",
      "5154       20   8     3.0   36.5            36         0  \n",
      "5155       20   9     2.5   38.5            26         0  \n",
      "5156       34  10     6.5   40.0            48         1  \n",
      "5157       10  11    -3.5   36.5            27         0  \n",
      "5158       31  12     1.0   42.0            59         2  \n",
      "5159       27  13    13.5   46.5            55         0  \n",
      "5160       19  14    -3.0   37.0            35         1  \n",
      "5161       20  15     3.5   41.5            37         0  \n",
      "5162       26  16     4.0   44.0            29         2  \n",
      "5163       20  17     4.0   41.5            48         2  \n",
      "5164       16   1    -6.5   38.5            36         0  \n",
      "5165       33   2     4.0   38.5            68         0  \n",
      "5166       37   3     4.5   43.5            40         0  \n",
      "5167       34   4     9.5   43.0            65         1  \n",
      "5168       40   5    -6.0   44.5            60         0  \n",
      "5169       16   6     1.5   41.5            40         0  \n",
      "5170       14   7    -3.0   36.5            21         1  \n",
      "5171       38   8     6.5   42.5            69         2  \n",
      "5172       17   9     2.5   40.5            37         0  \n",
      "5173       29  10     5.5   44.5            55         0  \n",
      "5174       31  11    -9.0   38.0            50         2  \n",
      "5175       45  12    13.5   48.5            55         1  \n",
      "5176       45  13     9.0   49.5            60         0  \n",
      "5177       28  14     6.5   50.5            48         0  \n",
      "5178       30  15     3.0   37.5            58         0  \n",
      "5179       27  16    14.0   49.5            37         0  \n",
      "5180       38  17    13.0   46.5            48         2  \n",
      "<class 'pandas.core.frame.DataFrame'>\n",
      "RangeIndex: 5181 entries, 0 to 5180\n",
      "Data columns (total 16 columns):\n",
      " #   Column        Non-Null Count  Dtype  \n",
      "---  ------        --------------  -----  \n",
      " 0   Season        5181 non-null   int64  \n",
      " 1   Week          5181 non-null   int64  \n",
      " 2   Team          5181 non-null   object \n",
      " 3   Day           5181 non-null   object \n",
      " 4   Date          5181 non-null   object \n",
      " 5   Win           5181 non-null   int64  \n",
      " 6   OT            5181 non-null   int64  \n",
      " 7   Home          5181 non-null   int64  \n",
      " 8   Opp           5181 non-null   object \n",
      " 9   Off_Pts       5181 non-null   int64  \n",
      " 10  Def_Pts       5181 non-null   int64  \n",
      " 11  G             5181 non-null   int64  \n",
      " 12  Spread        5181 non-null   float64\n",
      " 13  Total         5181 non-null   float64\n",
      " 14  Actual_Total  5181 non-null   int64  \n",
      " 15  Div_Game      5181 non-null   int64  \n",
      "dtypes: float64(2), int64(10), object(4)\n",
      "memory usage: 647.8+ KB\n",
      "None\n"
     ]
    }
   ],
   "source": [
    "div_dict = {'buf':'AFCE','mia': 'AFCE','nwe': 'AFCE', 'nyj': 'AFCE', \n",
    "            'rav':'AFCN','cin': 'AFCN','cle': 'AFCN', 'pit': 'AFCN', \n",
    "            'htx':'AFCS','clt': 'AFCS','jax': 'AFCS', 'oti': 'AFCS', \n",
    "            'den':'AFCW','kan': 'AFCW','sdg': 'AFCW', 'rai':'AFCW',\n",
    "            'dal':'NFCE','nyg': 'NFCE','phi': 'NFCE', 'was': 'NFCE', \n",
    "            'chi':'NFCN','det': 'NFCN','gnb': 'NFCN', 'min': 'NFCN', \n",
    "            'atl':'NFCS','car': 'NFCS','nor': 'NFCS', 'tam': 'NFCS', \n",
    "            'crd':'NFCW','ram': 'NFCW','sea': 'NFCW', 'sfo': 'NFCW'}\n",
    "\n",
    "nfl_pts_veg_df['Week_Min'] = nfl_pts_veg_df.groupby(['Season','Team','Opp'])['Week'].transform('min')\n",
    "nfl_pts_veg_df['Week_Max'] = nfl_pts_veg_df.groupby(['Season','Team','Opp'])['Week'].transform('max')\n",
    "print(nfl_pts_veg_df[['Week','Team','Opp','Week_Min','Week_Max']].tail(32))\n",
    "\n",
    "def calc_div_col(row):\n",
    "    if div_dict[row['Team'].lower()] != div_dict[row['Opp'].lower()]:\n",
    "        return 0\n",
    "    if row['Week_Min'] == row['Week_Max']:\n",
    "        return 1\n",
    "    elif row['Week'] == row['Week_Min']:\n",
    "        return 1\n",
    "    else:\n",
    "        return 2\n",
    "\n",
    "nfl_pts_veg_df['Div_Game'] = nfl_pts_veg_df.apply(calc_div_col, axis=1)\n",
    "\n",
    "nfl_pts_veg_df.pop('Week_Min')\n",
    "nfl_pts_veg_df.pop('Week_Max')\n",
    "\n",
    "print(nfl_pts_veg_df.tail(32))\n",
    "print(nfl_pts_veg_df.info(verbose=True))"
   ]
  },
  {
   "cell_type": "code",
   "execution_count": 66,
   "id": "f6eb54d2",
   "metadata": {},
   "outputs": [],
   "source": [
    "nfl_pts_veg_df.to_csv('nfl_pts_and_vegas_2014-2023.csv', index=False)"
   ]
  },
  {
   "cell_type": "code",
   "execution_count": 67,
   "id": "6bebca0b",
   "metadata": {},
   "outputs": [
    {
     "data": {
      "text/plain": [
       "0    3273\n",
       "1     954\n",
       "2     954\n",
       "Name: Div_Game, dtype: int64"
      ]
     },
     "execution_count": 67,
     "metadata": {},
     "output_type": "execute_result"
    }
   ],
   "source": [
    "nfl_pts_veg_df['Div_Game'].value_counts() "
   ]
  },
  {
   "cell_type": "code",
   "execution_count": null,
   "id": "8a7d3960",
   "metadata": {},
   "outputs": [],
   "source": []
  }
 ],
 "metadata": {
  "kernelspec": {
   "display_name": "Python 3 (ipykernel)",
   "language": "python",
   "name": "python3"
  },
  "language_info": {
   "codemirror_mode": {
    "name": "ipython",
    "version": 3
   },
   "file_extension": ".py",
   "mimetype": "text/x-python",
   "name": "python",
   "nbconvert_exporter": "python",
   "pygments_lexer": "ipython3",
   "version": "3.9.13"
  }
 },
 "nbformat": 4,
 "nbformat_minor": 5
}
